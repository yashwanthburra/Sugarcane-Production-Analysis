{
 "cells": [
  {
   "cell_type": "code",
   "execution_count": 1,
   "id": "663cbe50-efd1-433f-a57c-c386f4424429",
   "metadata": {},
   "outputs": [],
   "source": [
    "import numpy as np\n",
    "import pandas as pd"
   ]
  },
  {
   "cell_type": "markdown",
   "id": "c780bea5-5456-4e76-8b5f-24136cb37414",
   "metadata": {},
   "source": [
    "Exploratory Data Analysis"
   ]
  },
  {
   "cell_type": "code",
   "execution_count": 2,
   "id": "40986b3e-e9d3-4f12-9ea3-e7b5177334db",
   "metadata": {},
   "outputs": [],
   "source": [
    "data=pd.read_csv('List of Countries by Sugarcane Production.csv')"
   ]
  },
  {
   "cell_type": "code",
   "execution_count": 3,
   "id": "ff1d6c4d-65d0-4f1c-bda1-e4564b31c942",
   "metadata": {},
   "outputs": [
    {
     "name": "stdout",
     "output_type": "stream",
     "text": [
      "<class 'pandas.core.frame.DataFrame'>\n",
      "RangeIndex: 103 entries, 0 to 102\n",
      "Data columns (total 7 columns):\n",
      " #   Column                      Non-Null Count  Dtype \n",
      "---  ------                      --------------  ----- \n",
      " 0   Unnamed: 0                  103 non-null    int64 \n",
      " 1   Country                     103 non-null    object\n",
      " 2   Continent                   103 non-null    object\n",
      " 3   Production (Tons)           103 non-null    object\n",
      " 4   Production per Person (Kg)  103 non-null    object\n",
      " 5   Acreage (Hectare)           102 non-null    object\n",
      " 6   Yield (Kg / Hectare)        102 non-null    object\n",
      "dtypes: int64(1), object(6)\n",
      "memory usage: 5.8+ KB\n"
     ]
    }
   ],
   "source": [
    "data.info()"
   ]
  },
  {
   "cell_type": "code",
   "execution_count": 4,
   "id": "f00ff0bc-aff5-4063-8ee6-e0aa6028ded2",
   "metadata": {},
   "outputs": [
    {
     "data": {
      "text/plain": [
       "Unnamed: 0                    103\n",
       "Country                       103\n",
       "Continent                       6\n",
       "Production (Tons)             103\n",
       "Production per Person (Kg)    102\n",
       "Acreage (Hectare)             102\n",
       "Yield (Kg / Hectare)          102\n",
       "dtype: int64"
      ]
     },
     "execution_count": 4,
     "metadata": {},
     "output_type": "execute_result"
    }
   ],
   "source": [
    "data.nunique()"
   ]
  },
  {
   "cell_type": "code",
   "execution_count": 5,
   "id": "f79a575a-2598-4968-8b29-132bba5fd5a6",
   "metadata": {},
   "outputs": [
    {
     "data": {
      "text/plain": [
       "Unnamed: 0                    103\n",
       "Country                       103\n",
       "Continent                     103\n",
       "Production (Tons)             103\n",
       "Production per Person (Kg)    103\n",
       "Acreage (Hectare)             102\n",
       "Yield (Kg / Hectare)          102\n",
       "dtype: int64"
      ]
     },
     "execution_count": 5,
     "metadata": {},
     "output_type": "execute_result"
    }
   ],
   "source": [
    "data.count()"
   ]
  },
  {
   "cell_type": "code",
   "execution_count": 6,
   "id": "d2378c41-410d-4bf5-8ea8-312a7b445934",
   "metadata": {},
   "outputs": [
    {
     "data": {
      "text/plain": [
       "Continent\n",
       "Africa           39\n",
       "Asia             25\n",
       "North America    22\n",
       "South America    11\n",
       "Oceania           4\n",
       "Europe            2\n",
       "Name: count, dtype: int64"
      ]
     },
     "execution_count": 6,
     "metadata": {},
     "output_type": "execute_result"
    }
   ],
   "source": [
    "data['Continent'].value_counts()"
   ]
  },
  {
   "cell_type": "code",
   "execution_count": 7,
   "id": "1eeb59f0-1277-47c1-adbc-9d00ad81cd7e",
   "metadata": {},
   "outputs": [
    {
     "data": {
      "text/plain": [
       "Unnamed: 0                    False\n",
       "Country                       False\n",
       "Continent                     False\n",
       "Production (Tons)             False\n",
       "Production per Person (Kg)    False\n",
       "Acreage (Hectare)              True\n",
       "Yield (Kg / Hectare)           True\n",
       "dtype: bool"
      ]
     },
     "execution_count": 7,
     "metadata": {},
     "output_type": "execute_result"
    }
   ],
   "source": [
    "data.isna().any()"
   ]
  },
  {
   "cell_type": "code",
   "execution_count": 8,
   "id": "7dab464e-8641-472e-ba16-c37c598ad5c9",
   "metadata": {},
   "outputs": [
    {
     "data": {
      "text/html": [
       "<div>\n",
       "<style scoped>\n",
       "    .dataframe tbody tr th:only-of-type {\n",
       "        vertical-align: middle;\n",
       "    }\n",
       "\n",
       "    .dataframe tbody tr th {\n",
       "        vertical-align: top;\n",
       "    }\n",
       "\n",
       "    .dataframe thead th {\n",
       "        text-align: right;\n",
       "    }\n",
       "</style>\n",
       "<table border=\"1\" class=\"dataframe\">\n",
       "  <thead>\n",
       "    <tr style=\"text-align: right;\">\n",
       "      <th></th>\n",
       "      <th>Unnamed: 0</th>\n",
       "      <th>Country</th>\n",
       "      <th>Continent</th>\n",
       "      <th>Production (Tons)</th>\n",
       "      <th>Production per Person (Kg)</th>\n",
       "      <th>Acreage (Hectare)</th>\n",
       "      <th>Yield (Kg / Hectare)</th>\n",
       "    </tr>\n",
       "  </thead>\n",
       "  <tbody>\n",
       "    <tr>\n",
       "      <th>99</th>\n",
       "      <td>99</td>\n",
       "      <td>Djibouti</td>\n",
       "      <td>Africa</td>\n",
       "      <td>53</td>\n",
       "      <td>51</td>\n",
       "      <td>NaN</td>\n",
       "      <td>NaN</td>\n",
       "    </tr>\n",
       "  </tbody>\n",
       "</table>\n",
       "</div>"
      ],
      "text/plain": [
       "    Unnamed: 0   Country Continent Production (Tons)  \\\n",
       "99          99  Djibouti    Africa                53   \n",
       "\n",
       "   Production per Person (Kg) Acreage (Hectare) Yield (Kg / Hectare)  \n",
       "99                         51               NaN                  NaN  "
      ]
     },
     "execution_count": 8,
     "metadata": {},
     "output_type": "execute_result"
    }
   ],
   "source": [
    "data.loc[data.loc[:,'Yield (Kg / Hectare)'].isna(),:]"
   ]
  },
  {
   "cell_type": "code",
   "execution_count": 9,
   "id": "e85df460-55fd-42f9-b91d-150ae68a8b99",
   "metadata": {},
   "outputs": [
    {
     "data": {
      "text/html": [
       "<div>\n",
       "<style scoped>\n",
       "    .dataframe tbody tr th:only-of-type {\n",
       "        vertical-align: middle;\n",
       "    }\n",
       "\n",
       "    .dataframe tbody tr th {\n",
       "        vertical-align: top;\n",
       "    }\n",
       "\n",
       "    .dataframe thead th {\n",
       "        text-align: right;\n",
       "    }\n",
       "</style>\n",
       "<table border=\"1\" class=\"dataframe\">\n",
       "  <thead>\n",
       "    <tr style=\"text-align: right;\">\n",
       "      <th></th>\n",
       "      <th>Unnamed: 0</th>\n",
       "      <th>Country</th>\n",
       "      <th>Continent</th>\n",
       "      <th>Production (Tons)</th>\n",
       "      <th>Production per Person (Kg)</th>\n",
       "      <th>Acreage (Hectare)</th>\n",
       "      <th>Yield (Kg / Hectare)</th>\n",
       "    </tr>\n",
       "  </thead>\n",
       "  <tbody>\n",
       "    <tr>\n",
       "      <th>0</th>\n",
       "      <td>0</td>\n",
       "      <td>Brazil</td>\n",
       "      <td>South America</td>\n",
       "      <td>768.678.382</td>\n",
       "      <td>3.668,531</td>\n",
       "      <td>10.226.205</td>\n",
       "      <td>75.167,5</td>\n",
       "    </tr>\n",
       "    <tr>\n",
       "      <th>1</th>\n",
       "      <td>1</td>\n",
       "      <td>India</td>\n",
       "      <td>Asia</td>\n",
       "      <td>348.448.000</td>\n",
       "      <td>260721</td>\n",
       "      <td>4.950.000</td>\n",
       "      <td>70.393,5</td>\n",
       "    </tr>\n",
       "    <tr>\n",
       "      <th>2</th>\n",
       "      <td>2</td>\n",
       "      <td>China</td>\n",
       "      <td>Asia</td>\n",
       "      <td>123.059.739</td>\n",
       "      <td>88287</td>\n",
       "      <td>1.675.215</td>\n",
       "      <td>73.459,1</td>\n",
       "    </tr>\n",
       "    <tr>\n",
       "      <th>3</th>\n",
       "      <td>3</td>\n",
       "      <td>Thailand</td>\n",
       "      <td>Asia</td>\n",
       "      <td>87.468.496</td>\n",
       "      <td>1.264,303</td>\n",
       "      <td>1.336.575</td>\n",
       "      <td>65.442,2</td>\n",
       "    </tr>\n",
       "    <tr>\n",
       "      <th>4</th>\n",
       "      <td>4</td>\n",
       "      <td>Pakistan</td>\n",
       "      <td>Asia</td>\n",
       "      <td>65.450.704</td>\n",
       "      <td>324219</td>\n",
       "      <td>1.130.820</td>\n",
       "      <td>57.879</td>\n",
       "    </tr>\n",
       "    <tr>\n",
       "      <th>...</th>\n",
       "      <td>...</td>\n",
       "      <td>...</td>\n",
       "      <td>...</td>\n",
       "      <td>...</td>\n",
       "      <td>...</td>\n",
       "      <td>...</td>\n",
       "      <td>...</td>\n",
       "    </tr>\n",
       "    <tr>\n",
       "      <th>98</th>\n",
       "      <td>98</td>\n",
       "      <td>Lebanon</td>\n",
       "      <td>Asia</td>\n",
       "      <td>97</td>\n",
       "      <td>16</td>\n",
       "      <td>3</td>\n",
       "      <td>28.386,4</td>\n",
       "    </tr>\n",
       "    <tr>\n",
       "      <th>99</th>\n",
       "      <td>99</td>\n",
       "      <td>Djibouti</td>\n",
       "      <td>Africa</td>\n",
       "      <td>53</td>\n",
       "      <td>51</td>\n",
       "      <td>NaN</td>\n",
       "      <td>NaN</td>\n",
       "    </tr>\n",
       "    <tr>\n",
       "      <th>100</th>\n",
       "      <td>100</td>\n",
       "      <td>Singapore</td>\n",
       "      <td>Asia</td>\n",
       "      <td>50</td>\n",
       "      <td>9</td>\n",
       "      <td>2</td>\n",
       "      <td>25</td>\n",
       "    </tr>\n",
       "    <tr>\n",
       "      <th>101</th>\n",
       "      <td>101</td>\n",
       "      <td>Samoa</td>\n",
       "      <td>Oceania</td>\n",
       "      <td>12</td>\n",
       "      <td>6</td>\n",
       "      <td>1</td>\n",
       "      <td>11.949,8</td>\n",
       "    </tr>\n",
       "    <tr>\n",
       "      <th>102</th>\n",
       "      <td>102</td>\n",
       "      <td>Syria</td>\n",
       "      <td>Asia</td>\n",
       "      <td>1</td>\n",
       "      <td>0</td>\n",
       "      <td>0</td>\n",
       "      <td>83.034,2</td>\n",
       "    </tr>\n",
       "  </tbody>\n",
       "</table>\n",
       "<p>103 rows × 7 columns</p>\n",
       "</div>"
      ],
      "text/plain": [
       "     Unnamed: 0    Country      Continent Production (Tons)  \\\n",
       "0             0     Brazil  South America       768.678.382   \n",
       "1             1      India           Asia       348.448.000   \n",
       "2             2      China           Asia       123.059.739   \n",
       "3             3   Thailand           Asia        87.468.496   \n",
       "4             4   Pakistan           Asia        65.450.704   \n",
       "..          ...        ...            ...               ...   \n",
       "98           98    Lebanon           Asia                97   \n",
       "99           99   Djibouti         Africa                53   \n",
       "100         100  Singapore           Asia                50   \n",
       "101         101      Samoa        Oceania                12   \n",
       "102         102      Syria           Asia                 1   \n",
       "\n",
       "    Production per Person (Kg) Acreage (Hectare) Yield (Kg / Hectare)  \n",
       "0                    3.668,531        10.226.205             75.167,5  \n",
       "1                       260721         4.950.000             70.393,5  \n",
       "2                        88287         1.675.215             73.459,1  \n",
       "3                    1.264,303         1.336.575             65.442,2  \n",
       "4                       324219         1.130.820               57.879  \n",
       "..                         ...               ...                  ...  \n",
       "98                          16                 3             28.386,4  \n",
       "99                          51               NaN                  NaN  \n",
       "100                          9                 2                   25  \n",
       "101                          6                 1             11.949,8  \n",
       "102                          0                 0             83.034,2  \n",
       "\n",
       "[103 rows x 7 columns]"
      ]
     },
     "execution_count": 9,
     "metadata": {},
     "output_type": "execute_result"
    }
   ],
   "source": [
    "data"
   ]
  },
  {
   "cell_type": "code",
   "execution_count": 10,
   "id": "06980ddf-38b3-4408-afd4-ed18ebc00d77",
   "metadata": {},
   "outputs": [],
   "source": [
    "import re\n",
    "import numpy as np"
   ]
  },
  {
   "cell_type": "code",
   "execution_count": 11,
   "id": "e8919b27-c46b-4d81-8d8c-107fb65a9d46",
   "metadata": {},
   "outputs": [],
   "source": [
    "data['Acreage (Hectare)'] = data['Acreage (Hectare)'].astype(str)\n",
    "data['Acreage (Hectare)'] = data['Acreage (Hectare)'].apply(lambda x: re.sub(r'\\D', '', x))\n",
    "data['Acreage (Hectare)'] = data['Acreage (Hectare)'].replace('', np.nan).astype(float)\n",
    "mean = data['Acreage (Hectare)'].mean()"
   ]
  },
  {
   "cell_type": "code",
   "execution_count": 12,
   "id": "43253de3-a9d9-4f78-896b-80edcaf24ddc",
   "metadata": {},
   "outputs": [
    {
     "data": {
      "text/plain": [
       "249898.10784313726"
      ]
     },
     "execution_count": 12,
     "metadata": {},
     "output_type": "execute_result"
    }
   ],
   "source": [
    "mean"
   ]
  },
  {
   "cell_type": "code",
   "execution_count": 13,
   "id": "9817b878-28c4-4ba4-8cdc-8390c544ea1f",
   "metadata": {},
   "outputs": [],
   "source": [
    "data ['Acreage (Hectare)'].fillna(mean,inplace=True)"
   ]
  },
  {
   "cell_type": "code",
   "execution_count": 14,
   "id": "f7421046-32d2-471f-b1d9-7ad8fc09bd1e",
   "metadata": {},
   "outputs": [
    {
     "data": {
      "text/html": [
       "<div>\n",
       "<style scoped>\n",
       "    .dataframe tbody tr th:only-of-type {\n",
       "        vertical-align: middle;\n",
       "    }\n",
       "\n",
       "    .dataframe tbody tr th {\n",
       "        vertical-align: top;\n",
       "    }\n",
       "\n",
       "    .dataframe thead th {\n",
       "        text-align: right;\n",
       "    }\n",
       "</style>\n",
       "<table border=\"1\" class=\"dataframe\">\n",
       "  <thead>\n",
       "    <tr style=\"text-align: right;\">\n",
       "      <th></th>\n",
       "      <th>Unnamed: 0</th>\n",
       "      <th>Country</th>\n",
       "      <th>Continent</th>\n",
       "      <th>Production (Tons)</th>\n",
       "      <th>Production per Person (Kg)</th>\n",
       "      <th>Acreage (Hectare)</th>\n",
       "      <th>Yield (Kg / Hectare)</th>\n",
       "    </tr>\n",
       "  </thead>\n",
       "  <tbody>\n",
       "    <tr>\n",
       "      <th>99</th>\n",
       "      <td>99</td>\n",
       "      <td>Djibouti</td>\n",
       "      <td>Africa</td>\n",
       "      <td>53</td>\n",
       "      <td>51</td>\n",
       "      <td>249898.107843</td>\n",
       "      <td>NaN</td>\n",
       "    </tr>\n",
       "  </tbody>\n",
       "</table>\n",
       "</div>"
      ],
      "text/plain": [
       "    Unnamed: 0   Country Continent Production (Tons)  \\\n",
       "99          99  Djibouti    Africa                53   \n",
       "\n",
       "   Production per Person (Kg)  Acreage (Hectare) Yield (Kg / Hectare)  \n",
       "99                         51      249898.107843                  NaN  "
      ]
     },
     "execution_count": 14,
     "metadata": {},
     "output_type": "execute_result"
    }
   ],
   "source": [
    "data.loc[data.loc[:,'Yield (Kg / Hectare)'].isna(),:]"
   ]
  },
  {
   "cell_type": "code",
   "execution_count": 15,
   "id": "9fc440fd-7eb3-49a5-9539-df68fd5877e3",
   "metadata": {},
   "outputs": [],
   "source": [
    "data['Yield (Kg / Hectare)'] = data['Yield (Kg / Hectare)'].str.replace(r'\\D', '', regex=True)\n",
    "data['Yield (Kg / Hectare)'] = data['Yield (Kg / Hectare)'].astype(float)\n",
    "mean = data['Yield (Kg / Hectare)'].mean()"
   ]
  },
  {
   "cell_type": "code",
   "execution_count": 16,
   "id": "562a3abd",
   "metadata": {},
   "outputs": [
    {
     "data": {
      "text/plain": [
       "501850.1960784314"
      ]
     },
     "execution_count": 16,
     "metadata": {},
     "output_type": "execute_result"
    }
   ],
   "source": [
    "mean"
   ]
  },
  {
   "cell_type": "code",
   "execution_count": 17,
   "id": "269403d8",
   "metadata": {},
   "outputs": [],
   "source": [
    "data ['Yield (Kg / Hectare)'].fillna(mean,inplace=True)"
   ]
  },
  {
   "cell_type": "code",
   "execution_count": 18,
   "id": "fa520ad5",
   "metadata": {},
   "outputs": [
    {
     "data": {
      "text/html": [
       "<div>\n",
       "<style scoped>\n",
       "    .dataframe tbody tr th:only-of-type {\n",
       "        vertical-align: middle;\n",
       "    }\n",
       "\n",
       "    .dataframe tbody tr th {\n",
       "        vertical-align: top;\n",
       "    }\n",
       "\n",
       "    .dataframe thead th {\n",
       "        text-align: right;\n",
       "    }\n",
       "</style>\n",
       "<table border=\"1\" class=\"dataframe\">\n",
       "  <thead>\n",
       "    <tr style=\"text-align: right;\">\n",
       "      <th></th>\n",
       "      <th>Unnamed: 0</th>\n",
       "      <th>Country</th>\n",
       "      <th>Continent</th>\n",
       "      <th>Production (Tons)</th>\n",
       "      <th>Production per Person (Kg)</th>\n",
       "      <th>Acreage (Hectare)</th>\n",
       "      <th>Yield (Kg / Hectare)</th>\n",
       "    </tr>\n",
       "  </thead>\n",
       "  <tbody>\n",
       "  </tbody>\n",
       "</table>\n",
       "</div>"
      ],
      "text/plain": [
       "Empty DataFrame\n",
       "Columns: [Unnamed: 0, Country, Continent, Production (Tons), Production per Person (Kg), Acreage (Hectare), Yield (Kg / Hectare)]\n",
       "Index: []"
      ]
     },
     "execution_count": 18,
     "metadata": {},
     "output_type": "execute_result"
    }
   ],
   "source": [
    "data.loc[data.loc[:,'Yield (Kg / Hectare)'].isna(),:]"
   ]
  },
  {
   "cell_type": "code",
   "execution_count": 19,
   "id": "2a579d04-c581-4bee-a7d3-f0cc63161207",
   "metadata": {},
   "outputs": [
    {
     "data": {
      "text/html": [
       "<div>\n",
       "<style scoped>\n",
       "    .dataframe tbody tr th:only-of-type {\n",
       "        vertical-align: middle;\n",
       "    }\n",
       "\n",
       "    .dataframe tbody tr th {\n",
       "        vertical-align: top;\n",
       "    }\n",
       "\n",
       "    .dataframe thead th {\n",
       "        text-align: right;\n",
       "    }\n",
       "</style>\n",
       "<table border=\"1\" class=\"dataframe\">\n",
       "  <thead>\n",
       "    <tr style=\"text-align: right;\">\n",
       "      <th></th>\n",
       "      <th>Unnamed: 0</th>\n",
       "      <th>Country</th>\n",
       "      <th>Continent</th>\n",
       "      <th>Production (Tons)</th>\n",
       "      <th>Production per Person (Kg)</th>\n",
       "      <th>Acreage (Hectare)</th>\n",
       "      <th>Yield (Kg / Hectare)</th>\n",
       "    </tr>\n",
       "  </thead>\n",
       "  <tbody>\n",
       "    <tr>\n",
       "      <th>98</th>\n",
       "      <td>98</td>\n",
       "      <td>Lebanon</td>\n",
       "      <td>Asia</td>\n",
       "      <td>97</td>\n",
       "      <td>16</td>\n",
       "      <td>3.000000</td>\n",
       "      <td>283864.000000</td>\n",
       "    </tr>\n",
       "    <tr>\n",
       "      <th>99</th>\n",
       "      <td>99</td>\n",
       "      <td>Djibouti</td>\n",
       "      <td>Africa</td>\n",
       "      <td>53</td>\n",
       "      <td>51</td>\n",
       "      <td>249898.107843</td>\n",
       "      <td>501850.196078</td>\n",
       "    </tr>\n",
       "    <tr>\n",
       "      <th>100</th>\n",
       "      <td>100</td>\n",
       "      <td>Singapore</td>\n",
       "      <td>Asia</td>\n",
       "      <td>50</td>\n",
       "      <td>9</td>\n",
       "      <td>2.000000</td>\n",
       "      <td>25.000000</td>\n",
       "    </tr>\n",
       "    <tr>\n",
       "      <th>101</th>\n",
       "      <td>101</td>\n",
       "      <td>Samoa</td>\n",
       "      <td>Oceania</td>\n",
       "      <td>12</td>\n",
       "      <td>6</td>\n",
       "      <td>1.000000</td>\n",
       "      <td>119498.000000</td>\n",
       "    </tr>\n",
       "    <tr>\n",
       "      <th>102</th>\n",
       "      <td>102</td>\n",
       "      <td>Syria</td>\n",
       "      <td>Asia</td>\n",
       "      <td>1</td>\n",
       "      <td>0</td>\n",
       "      <td>0.000000</td>\n",
       "      <td>830342.000000</td>\n",
       "    </tr>\n",
       "  </tbody>\n",
       "</table>\n",
       "</div>"
      ],
      "text/plain": [
       "     Unnamed: 0    Country Continent Production (Tons)  \\\n",
       "98           98    Lebanon      Asia                97   \n",
       "99           99   Djibouti    Africa                53   \n",
       "100         100  Singapore      Asia                50   \n",
       "101         101      Samoa   Oceania                12   \n",
       "102         102      Syria      Asia                 1   \n",
       "\n",
       "    Production per Person (Kg)  Acreage (Hectare)  Yield (Kg / Hectare)  \n",
       "98                          16           3.000000         283864.000000  \n",
       "99                          51      249898.107843         501850.196078  \n",
       "100                          9           2.000000             25.000000  \n",
       "101                          6           1.000000         119498.000000  \n",
       "102                          0           0.000000         830342.000000  "
      ]
     },
     "execution_count": 19,
     "metadata": {},
     "output_type": "execute_result"
    }
   ],
   "source": [
    "data.tail()"
   ]
  },
  {
   "cell_type": "code",
   "execution_count": 20,
   "id": "16294cfa-0d82-431b-80de-482cdebbc8e4",
   "metadata": {},
   "outputs": [],
   "source": [
    "data['Production (Tons)'] = data['Production (Tons)'].str.replace('.', '').astype(float)\n",
    "data['Production per Person (Kg)'] = data['Production per Person (Kg)'].str.replace(',', '').astype(float)"
   ]
  },
  {
   "cell_type": "code",
   "execution_count": 21,
   "id": "9c1e66df-e513-405f-8485-511bd452c45b",
   "metadata": {},
   "outputs": [
    {
     "data": {
      "text/html": [
       "<div>\n",
       "<style scoped>\n",
       "    .dataframe tbody tr th:only-of-type {\n",
       "        vertical-align: middle;\n",
       "    }\n",
       "\n",
       "    .dataframe tbody tr th {\n",
       "        vertical-align: top;\n",
       "    }\n",
       "\n",
       "    .dataframe thead th {\n",
       "        text-align: right;\n",
       "    }\n",
       "</style>\n",
       "<table border=\"1\" class=\"dataframe\">\n",
       "  <thead>\n",
       "    <tr style=\"text-align: right;\">\n",
       "      <th></th>\n",
       "      <th>Unnamed: 0</th>\n",
       "      <th>Country</th>\n",
       "      <th>Continent</th>\n",
       "      <th>Production (Tons)</th>\n",
       "      <th>Production per Person (Kg)</th>\n",
       "      <th>Acreage (Hectare)</th>\n",
       "      <th>Yield (Kg / Hectare)</th>\n",
       "    </tr>\n",
       "  </thead>\n",
       "  <tbody>\n",
       "    <tr>\n",
       "      <th>1</th>\n",
       "      <td>1</td>\n",
       "      <td>India</td>\n",
       "      <td>Asia</td>\n",
       "      <td>348448000.0</td>\n",
       "      <td>260721.0</td>\n",
       "      <td>4950000.0</td>\n",
       "      <td>703935.0</td>\n",
       "    </tr>\n",
       "  </tbody>\n",
       "</table>\n",
       "</div>"
      ],
      "text/plain": [
       "   Unnamed: 0 Country Continent  Production (Tons)  \\\n",
       "1           1   India      Asia        348448000.0   \n",
       "\n",
       "   Production per Person (Kg)  Acreage (Hectare)  Yield (Kg / Hectare)  \n",
       "1                    260721.0          4950000.0              703935.0  "
      ]
     },
     "execution_count": 21,
     "metadata": {},
     "output_type": "execute_result"
    }
   ],
   "source": [
    "data[data['Country']=='India']"
   ]
  },
  {
   "cell_type": "markdown",
   "id": "95f07ba3-cd05-40fe-b1ac-1e146369c061",
   "metadata": {},
   "source": [
    "Production Comparsion"
   ]
  },
  {
   "cell_type": "code",
   "execution_count": 22,
   "id": "ce73f353-eb84-4841-a417-96208afaea37",
   "metadata": {},
   "outputs": [
    {
     "data": {
      "text/html": [
       "<div>\n",
       "<style scoped>\n",
       "    .dataframe tbody tr th:only-of-type {\n",
       "        vertical-align: middle;\n",
       "    }\n",
       "\n",
       "    .dataframe tbody tr th {\n",
       "        vertical-align: top;\n",
       "    }\n",
       "\n",
       "    .dataframe thead th {\n",
       "        text-align: right;\n",
       "    }\n",
       "</style>\n",
       "<table border=\"1\" class=\"dataframe\">\n",
       "  <thead>\n",
       "    <tr style=\"text-align: right;\">\n",
       "      <th></th>\n",
       "      <th>Unnamed: 0</th>\n",
       "      <th>Country</th>\n",
       "      <th>Continent</th>\n",
       "      <th>Production (Tons)</th>\n",
       "      <th>Production per Person (Kg)</th>\n",
       "      <th>Acreage (Hectare)</th>\n",
       "      <th>Yield (Kg / Hectare)</th>\n",
       "    </tr>\n",
       "  </thead>\n",
       "  <tbody>\n",
       "    <tr>\n",
       "      <th>0</th>\n",
       "      <td>0</td>\n",
       "      <td>Brazil</td>\n",
       "      <td>South America</td>\n",
       "      <td>768678382.0</td>\n",
       "      <td>3.668531</td>\n",
       "      <td>10226205.0</td>\n",
       "      <td>751675.0</td>\n",
       "    </tr>\n",
       "    <tr>\n",
       "      <th>1</th>\n",
       "      <td>1</td>\n",
       "      <td>India</td>\n",
       "      <td>Asia</td>\n",
       "      <td>348448000.0</td>\n",
       "      <td>260721.000000</td>\n",
       "      <td>4950000.0</td>\n",
       "      <td>703935.0</td>\n",
       "    </tr>\n",
       "    <tr>\n",
       "      <th>2</th>\n",
       "      <td>2</td>\n",
       "      <td>China</td>\n",
       "      <td>Asia</td>\n",
       "      <td>123059739.0</td>\n",
       "      <td>88287.000000</td>\n",
       "      <td>1675215.0</td>\n",
       "      <td>734591.0</td>\n",
       "    </tr>\n",
       "    <tr>\n",
       "      <th>3</th>\n",
       "      <td>3</td>\n",
       "      <td>Thailand</td>\n",
       "      <td>Asia</td>\n",
       "      <td>87468496.0</td>\n",
       "      <td>1.264303</td>\n",
       "      <td>1336575.0</td>\n",
       "      <td>654422.0</td>\n",
       "    </tr>\n",
       "    <tr>\n",
       "      <th>4</th>\n",
       "      <td>4</td>\n",
       "      <td>Pakistan</td>\n",
       "      <td>Asia</td>\n",
       "      <td>65450704.0</td>\n",
       "      <td>324219.000000</td>\n",
       "      <td>1130820.0</td>\n",
       "      <td>57879.0</td>\n",
       "    </tr>\n",
       "  </tbody>\n",
       "</table>\n",
       "</div>"
      ],
      "text/plain": [
       "   Unnamed: 0   Country      Continent  Production (Tons)  \\\n",
       "0           0    Brazil  South America        768678382.0   \n",
       "1           1     India           Asia        348448000.0   \n",
       "2           2     China           Asia        123059739.0   \n",
       "3           3  Thailand           Asia         87468496.0   \n",
       "4           4  Pakistan           Asia         65450704.0   \n",
       "\n",
       "   Production per Person (Kg)  Acreage (Hectare)  Yield (Kg / Hectare)  \n",
       "0                    3.668531         10226205.0              751675.0  \n",
       "1               260721.000000          4950000.0              703935.0  \n",
       "2                88287.000000          1675215.0              734591.0  \n",
       "3                    1.264303          1336575.0              654422.0  \n",
       "4               324219.000000          1130820.0               57879.0  "
      ]
     },
     "execution_count": 22,
     "metadata": {},
     "output_type": "execute_result"
    }
   ],
   "source": [
    "data.sort_values('Production (Tons)',ascending=False).head()"
   ]
  },
  {
   "cell_type": "code",
   "execution_count": 23,
   "id": "71d0a21e-2307-4638-8732-d6587007ecea",
   "metadata": {},
   "outputs": [
    {
     "data": {
      "text/html": [
       "<div>\n",
       "<style scoped>\n",
       "    .dataframe tbody tr th:only-of-type {\n",
       "        vertical-align: middle;\n",
       "    }\n",
       "\n",
       "    .dataframe tbody tr th {\n",
       "        vertical-align: top;\n",
       "    }\n",
       "\n",
       "    .dataframe thead th {\n",
       "        text-align: right;\n",
       "    }\n",
       "</style>\n",
       "<table border=\"1\" class=\"dataframe\">\n",
       "  <thead>\n",
       "    <tr style=\"text-align: right;\">\n",
       "      <th></th>\n",
       "      <th>Unnamed: 0</th>\n",
       "      <th>Country</th>\n",
       "      <th>Continent</th>\n",
       "      <th>Production (Tons)</th>\n",
       "      <th>Production per Person (Kg)</th>\n",
       "      <th>Acreage (Hectare)</th>\n",
       "      <th>Yield (Kg / Hectare)</th>\n",
       "    </tr>\n",
       "  </thead>\n",
       "  <tbody>\n",
       "    <tr>\n",
       "      <th>102</th>\n",
       "      <td>102</td>\n",
       "      <td>Syria</td>\n",
       "      <td>Asia</td>\n",
       "      <td>1.0</td>\n",
       "      <td>0.0</td>\n",
       "      <td>0.000000</td>\n",
       "      <td>830342.000000</td>\n",
       "    </tr>\n",
       "    <tr>\n",
       "      <th>88</th>\n",
       "      <td>88</td>\n",
       "      <td>Saint Lucia</td>\n",
       "      <td>North America</td>\n",
       "      <td>10.0</td>\n",
       "      <td>55915.0</td>\n",
       "      <td>125.000000</td>\n",
       "      <td>80.000000</td>\n",
       "    </tr>\n",
       "    <tr>\n",
       "      <th>101</th>\n",
       "      <td>101</td>\n",
       "      <td>Samoa</td>\n",
       "      <td>Oceania</td>\n",
       "      <td>12.0</td>\n",
       "      <td>6.0</td>\n",
       "      <td>1.000000</td>\n",
       "      <td>119498.000000</td>\n",
       "    </tr>\n",
       "    <tr>\n",
       "      <th>100</th>\n",
       "      <td>100</td>\n",
       "      <td>Singapore</td>\n",
       "      <td>Asia</td>\n",
       "      <td>50.0</td>\n",
       "      <td>9.0</td>\n",
       "      <td>2.000000</td>\n",
       "      <td>25.000000</td>\n",
       "    </tr>\n",
       "    <tr>\n",
       "      <th>99</th>\n",
       "      <td>99</td>\n",
       "      <td>Djibouti</td>\n",
       "      <td>Africa</td>\n",
       "      <td>53.0</td>\n",
       "      <td>51.0</td>\n",
       "      <td>249898.107843</td>\n",
       "      <td>501850.196078</td>\n",
       "    </tr>\n",
       "    <tr>\n",
       "      <th>98</th>\n",
       "      <td>98</td>\n",
       "      <td>Lebanon</td>\n",
       "      <td>Asia</td>\n",
       "      <td>97.0</td>\n",
       "      <td>16.0</td>\n",
       "      <td>3.000000</td>\n",
       "      <td>283864.000000</td>\n",
       "    </tr>\n",
       "  </tbody>\n",
       "</table>\n",
       "</div>"
      ],
      "text/plain": [
       "     Unnamed: 0      Country      Continent  Production (Tons)  \\\n",
       "102         102        Syria           Asia                1.0   \n",
       "88           88  Saint Lucia  North America               10.0   \n",
       "101         101        Samoa        Oceania               12.0   \n",
       "100         100    Singapore           Asia               50.0   \n",
       "99           99     Djibouti         Africa               53.0   \n",
       "98           98      Lebanon           Asia               97.0   \n",
       "\n",
       "     Production per Person (Kg)  Acreage (Hectare)  Yield (Kg / Hectare)  \n",
       "102                         0.0           0.000000         830342.000000  \n",
       "88                      55915.0         125.000000             80.000000  \n",
       "101                         6.0           1.000000         119498.000000  \n",
       "100                         9.0           2.000000             25.000000  \n",
       "99                         51.0      249898.107843         501850.196078  \n",
       "98                         16.0           3.000000         283864.000000  "
      ]
     },
     "execution_count": 23,
     "metadata": {},
     "output_type": "execute_result"
    }
   ],
   "source": [
    "data.sort_values('Production (Tons)' ,ascending=True).head(6)"
   ]
  },
  {
   "cell_type": "code",
   "execution_count": 24,
   "id": "1c0c815b-6137-4670-a2c8-9036b68a0b1a",
   "metadata": {},
   "outputs": [],
   "source": [
    "data.drop('Unnamed: 0',axis=1,inplace=True)"
   ]
  },
  {
   "cell_type": "code",
   "execution_count": 25,
   "id": "09adbc03-b662-4bba-8b65-0d1c17c9706d",
   "metadata": {},
   "outputs": [
    {
     "data": {
      "text/html": [
       "<div>\n",
       "<style scoped>\n",
       "    .dataframe tbody tr th:only-of-type {\n",
       "        vertical-align: middle;\n",
       "    }\n",
       "\n",
       "    .dataframe tbody tr th {\n",
       "        vertical-align: top;\n",
       "    }\n",
       "\n",
       "    .dataframe thead th {\n",
       "        text-align: right;\n",
       "    }\n",
       "</style>\n",
       "<table border=\"1\" class=\"dataframe\">\n",
       "  <thead>\n",
       "    <tr style=\"text-align: right;\">\n",
       "      <th></th>\n",
       "      <th>Country</th>\n",
       "      <th>Production (Tons)</th>\n",
       "      <th>Production per Person (Kg)</th>\n",
       "      <th>Acreage (Hectare)</th>\n",
       "      <th>Yield (Kg / Hectare)</th>\n",
       "    </tr>\n",
       "    <tr>\n",
       "      <th>Continent</th>\n",
       "      <th></th>\n",
       "      <th></th>\n",
       "      <th></th>\n",
       "      <th></th>\n",
       "      <th></th>\n",
       "    </tr>\n",
       "  </thead>\n",
       "  <tbody>\n",
       "    <tr>\n",
       "      <th>South America</th>\n",
       "      <td>BrazilColombiaArgentinaPeruEcuadorBoliviaParag...</td>\n",
       "      <td>865588126.0</td>\n",
       "      <td>3.498809e+06</td>\n",
       "      <td>1.136924e+07</td>\n",
       "      <td>6.766896e+06</td>\n",
       "    </tr>\n",
       "    <tr>\n",
       "      <th>Asia</th>\n",
       "      <td>IndiaChinaThailandPakistanIndonesiaPhilippines...</td>\n",
       "      <td>721930425.0</td>\n",
       "      <td>1.856506e+06</td>\n",
       "      <td>1.060832e+07</td>\n",
       "      <td>1.119731e+07</td>\n",
       "    </tr>\n",
       "    <tr>\n",
       "      <th>North America</th>\n",
       "      <td>MexicoGuatemalaUnited States of AmericaCubaEl ...</td>\n",
       "      <td>173995947.0</td>\n",
       "      <td>3.784457e+06</td>\n",
       "      <td>1.581983e+06</td>\n",
       "      <td>9.581162e+06</td>\n",
       "    </tr>\n",
       "    <tr>\n",
       "      <th>Africa</th>\n",
       "      <td>EgyptSouth AfricaKenyaSwazilandSudanZambiaMaur...</td>\n",
       "      <td>89681525.0</td>\n",
       "      <td>2.324876e+06</td>\n",
       "      <td>1.688987e+06</td>\n",
       "      <td>2.120230e+07</td>\n",
       "    </tr>\n",
       "    <tr>\n",
       "      <th>Oceania</th>\n",
       "      <td>AustraliaFijiPapua New GuineaSamoa</td>\n",
       "      <td>36177574.0</td>\n",
       "      <td>2.546413e+04</td>\n",
       "      <td>4.909090e+05</td>\n",
       "      <td>1.624191e+06</td>\n",
       "    </tr>\n",
       "    <tr>\n",
       "      <th>Europe</th>\n",
       "      <td>PortugalSpain</td>\n",
       "      <td>5823.0</td>\n",
       "      <td>5.360000e+02</td>\n",
       "      <td>7.100000e+01</td>\n",
       "      <td>1.318709e+06</td>\n",
       "    </tr>\n",
       "  </tbody>\n",
       "</table>\n",
       "</div>"
      ],
      "text/plain": [
       "                                                         Country  \\\n",
       "Continent                                                          \n",
       "South America  BrazilColombiaArgentinaPeruEcuadorBoliviaParag...   \n",
       "Asia           IndiaChinaThailandPakistanIndonesiaPhilippines...   \n",
       "North America  MexicoGuatemalaUnited States of AmericaCubaEl ...   \n",
       "Africa         EgyptSouth AfricaKenyaSwazilandSudanZambiaMaur...   \n",
       "Oceania                       AustraliaFijiPapua New GuineaSamoa   \n",
       "Europe                                             PortugalSpain   \n",
       "\n",
       "               Production (Tons)  Production per Person (Kg)  \\\n",
       "Continent                                                      \n",
       "South America        865588126.0                3.498809e+06   \n",
       "Asia                 721930425.0                1.856506e+06   \n",
       "North America        173995947.0                3.784457e+06   \n",
       "Africa                89681525.0                2.324876e+06   \n",
       "Oceania               36177574.0                2.546413e+04   \n",
       "Europe                    5823.0                5.360000e+02   \n",
       "\n",
       "               Acreage (Hectare)  Yield (Kg / Hectare)  \n",
       "Continent                                               \n",
       "South America       1.136924e+07          6.766896e+06  \n",
       "Asia                1.060832e+07          1.119731e+07  \n",
       "North America       1.581983e+06          9.581162e+06  \n",
       "Africa              1.688987e+06          2.120230e+07  \n",
       "Oceania             4.909090e+05          1.624191e+06  \n",
       "Europe              7.100000e+01          1.318709e+06  "
      ]
     },
     "execution_count": 25,
     "metadata": {},
     "output_type": "execute_result"
    }
   ],
   "source": [
    "data.groupby(['Continent']).sum().sort_values(by='Production (Tons)',ascending=False)"
   ]
  },
  {
   "cell_type": "code",
   "execution_count": 26,
   "id": "eeaba7ad-bdeb-4f79-8db1-70d19be275a4",
   "metadata": {},
   "outputs": [],
   "source": [
    "import matplotlib.pyplot as plt"
   ]
  },
  {
   "cell_type": "code",
   "execution_count": 27,
   "id": "aca3a932-4aa5-43b7-9305-fb5b444e3aec",
   "metadata": {},
   "outputs": [],
   "source": [
    "x=data.sort_values('Production (Tons)',ascending=False).head()['Country']\n",
    "y=data.sort_values('Production (Tons)',ascending=False).head()['Production (Tons)']"
   ]
  },
  {
   "cell_type": "code",
   "execution_count": 28,
   "id": "789f0eb6-8396-437f-bc5b-5d98e4099cc7",
   "metadata": {},
   "outputs": [
    {
     "data": {
      "image/png": "[encoded data removed]",
      "text/plain": [
       "<Figure size 640x480 with 1 Axes>"
      ]
     },
     "metadata": {},
     "output_type": "display_data"
    }
   ],
   "source": [
    "fig, pt=plt.subplots()\n",
    "pt.plot(x,y)    # plot the data\n",
    "\n",
    "pt.set_xlabel('Countries')    #customize the plot\n",
    "pt.set_ylabel('Production')\n",
    "pt.set_title('Top Countries Production')\n",
    "\n",
    "plt.show()    #show the plot\n"
   ]
  },
  {
   "cell_type": "code",
   "execution_count": 29,
   "id": "dc40739d-360a-48b7-965d-6d4c09db31e6",
   "metadata": {},
   "outputs": [
    {
     "data": {
      "image/png": "[encoded data removed]",
      "text/plain": [
       "<Figure size 640x480 with 1 Axes>"
      ]
     },
     "metadata": {},
     "output_type": "display_data"
    }
   ],
   "source": [
    "x=data.groupby('Continent').agg({'Production (Tons)':'sum'}).sort_values(by='Production (Tons)',ascending=False).index[0:]\n",
    "y=data.groupby('Continent').agg({'Production (Tons)':'sum'}).sort_values(by='Production (Tons)',ascending=False)['Production (Tons)'].values\n",
    "fig, pt = plt.subplots()\n",
    "\n",
    "pt.plot(x,y)\n",
    "\n",
    "pt.set_xlabel('Continents')\n",
    "pt.set_ylabel('Production')\n",
    "pt.set_title('Top Continents Production')\n",
    "\n",
    "plt.show()"
   ]
  },
  {
   "cell_type": "markdown",
   "id": "cdabc797-8ef3-4ed0-b160-814ee0804617",
   "metadata": {},
   "source": [
    "Production per person analysis"
   ]
  },
  {
   "cell_type": "code",
   "execution_count": 30,
   "id": "d0ae3fa2-00ce-4063-ad16-25f8c62a4d96",
   "metadata": {},
   "outputs": [
    {
     "data": {
      "text/plain": [
       "Index(['Country', 'Continent', 'Production (Tons)',\n",
       "       'Production per Person (Kg)', 'Acreage (Hectare)',\n",
       "       'Yield (Kg / Hectare)'],\n",
       "      dtype='object')"
      ]
     },
     "execution_count": 30,
     "metadata": {},
     "output_type": "execute_result"
    }
   ],
   "source": [
    "data.columns"
   ]
  },
  {
   "cell_type": "code",
   "execution_count": 31,
   "id": "9c13a1c7-4a23-4e0c-aeb6-a35848b17d05",
   "metadata": {},
   "outputs": [
    {
     "data": {
      "text/html": [
       "<div>\n",
       "<style scoped>\n",
       "    .dataframe tbody tr th:only-of-type {\n",
       "        vertical-align: middle;\n",
       "    }\n",
       "\n",
       "    .dataframe tbody tr th {\n",
       "        vertical-align: top;\n",
       "    }\n",
       "\n",
       "    .dataframe thead th {\n",
       "        text-align: right;\n",
       "    }\n",
       "</style>\n",
       "<table border=\"1\" class=\"dataframe\">\n",
       "  <thead>\n",
       "    <tr style=\"text-align: right;\">\n",
       "      <th></th>\n",
       "      <th>Country</th>\n",
       "      <th>Continent</th>\n",
       "      <th>Production (Tons)</th>\n",
       "      <th>Production per Person (Kg)</th>\n",
       "      <th>Acreage (Hectare)</th>\n",
       "      <th>Yield (Kg / Hectare)</th>\n",
       "    </tr>\n",
       "  </thead>\n",
       "  <tbody>\n",
       "    <tr>\n",
       "      <th>25</th>\n",
       "      <td>Paraguay</td>\n",
       "      <td>South America</td>\n",
       "      <td>6708000.0</td>\n",
       "      <td>951087.0</td>\n",
       "      <td>120.0</td>\n",
       "      <td>559.0</td>\n",
       "    </tr>\n",
       "    <tr>\n",
       "      <th>6</th>\n",
       "      <td>Colombia</td>\n",
       "      <td>South America</td>\n",
       "      <td>36951213.0</td>\n",
       "      <td>740075.0</td>\n",
       "      <td>416626.0</td>\n",
       "      <td>886915.0</td>\n",
       "    </tr>\n",
       "    <tr>\n",
       "      <th>55</th>\n",
       "      <td>Trinidad and Tobago</td>\n",
       "      <td>North America</td>\n",
       "      <td>810.0</td>\n",
       "      <td>597066.0</td>\n",
       "      <td>15.0</td>\n",
       "      <td>54.0</td>\n",
       "    </tr>\n",
       "    <tr>\n",
       "      <th>42</th>\n",
       "      <td>Panama</td>\n",
       "      <td>North America</td>\n",
       "      <td>2419638.0</td>\n",
       "      <td>581814.0</td>\n",
       "      <td>37995.0</td>\n",
       "      <td>636831.0</td>\n",
       "    </tr>\n",
       "    <tr>\n",
       "      <th>51</th>\n",
       "      <td>Jamaica</td>\n",
       "      <td>North America</td>\n",
       "      <td>1422432.0</td>\n",
       "      <td>521254.0</td>\n",
       "      <td>26255.0</td>\n",
       "      <td>541782.0</td>\n",
       "    </tr>\n",
       "  </tbody>\n",
       "</table>\n",
       "</div>"
      ],
      "text/plain": [
       "                Country      Continent  Production (Tons)  \\\n",
       "25             Paraguay  South America          6708000.0   \n",
       "6              Colombia  South America         36951213.0   \n",
       "55  Trinidad and Tobago  North America              810.0   \n",
       "42               Panama  North America          2419638.0   \n",
       "51              Jamaica  North America          1422432.0   \n",
       "\n",
       "    Production per Person (Kg)  Acreage (Hectare)  Yield (Kg / Hectare)  \n",
       "25                    951087.0              120.0                 559.0  \n",
       "6                     740075.0           416626.0              886915.0  \n",
       "55                    597066.0               15.0                  54.0  \n",
       "42                    581814.0            37995.0              636831.0  \n",
       "51                    521254.0            26255.0              541782.0  "
      ]
     },
     "execution_count": 31,
     "metadata": {},
     "output_type": "execute_result"
    }
   ],
   "source": [
    "data.sort_values('Production per Person (Kg)',ascending=False).head()"
   ]
  },
  {
   "cell_type": "code",
   "execution_count": 32,
   "id": "18ac270d-4b88-46fc-b5df-c068ef51a6dc",
   "metadata": {},
   "outputs": [
    {
     "data": {
      "text/html": [
       "<div>\n",
       "<style scoped>\n",
       "    .dataframe tbody tr th:only-of-type {\n",
       "        vertical-align: middle;\n",
       "    }\n",
       "\n",
       "    .dataframe tbody tr th {\n",
       "        vertical-align: top;\n",
       "    }\n",
       "\n",
       "    .dataframe thead th {\n",
       "        text-align: right;\n",
       "    }\n",
       "</style>\n",
       "<table border=\"1\" class=\"dataframe\">\n",
       "  <thead>\n",
       "    <tr style=\"text-align: right;\">\n",
       "      <th></th>\n",
       "      <th>Country</th>\n",
       "      <th>Continent</th>\n",
       "      <th>Production (Tons)</th>\n",
       "      <th>Production per Person (Kg)</th>\n",
       "      <th>Acreage (Hectare)</th>\n",
       "      <th>Yield (Kg / Hectare)</th>\n",
       "    </tr>\n",
       "  </thead>\n",
       "  <tbody>\n",
       "    <tr>\n",
       "      <th>102</th>\n",
       "      <td>Syria</td>\n",
       "      <td>Asia</td>\n",
       "      <td>1.0</td>\n",
       "      <td>0.000000</td>\n",
       "      <td>0.0</td>\n",
       "      <td>830342.0</td>\n",
       "    </tr>\n",
       "    <tr>\n",
       "      <th>21</th>\n",
       "      <td>El Salvador</td>\n",
       "      <td>North America</td>\n",
       "      <td>7202141.0</td>\n",
       "      <td>1.084111</td>\n",
       "      <td>79103.0</td>\n",
       "      <td>910476.0</td>\n",
       "    </tr>\n",
       "    <tr>\n",
       "      <th>24</th>\n",
       "      <td>Nicaragua</td>\n",
       "      <td>North America</td>\n",
       "      <td>6815147.0</td>\n",
       "      <td>1.084393</td>\n",
       "      <td>7413.0</td>\n",
       "      <td>919351.0</td>\n",
       "    </tr>\n",
       "    <tr>\n",
       "      <th>3</th>\n",
       "      <td>Thailand</td>\n",
       "      <td>Asia</td>\n",
       "      <td>87468496.0</td>\n",
       "      <td>1.264303</td>\n",
       "      <td>1336575.0</td>\n",
       "      <td>654422.0</td>\n",
       "    </tr>\n",
       "    <tr>\n",
       "      <th>7</th>\n",
       "      <td>Australia</td>\n",
       "      <td>Oceania</td>\n",
       "      <td>34403004.0</td>\n",
       "      <td>1.373406</td>\n",
       "      <td>447204.0</td>\n",
       "      <td>769291.0</td>\n",
       "    </tr>\n",
       "  </tbody>\n",
       "</table>\n",
       "</div>"
      ],
      "text/plain": [
       "         Country      Continent  Production (Tons)  \\\n",
       "102        Syria           Asia                1.0   \n",
       "21   El Salvador  North America          7202141.0   \n",
       "24     Nicaragua  North America          6815147.0   \n",
       "3       Thailand           Asia         87468496.0   \n",
       "7      Australia        Oceania         34403004.0   \n",
       "\n",
       "     Production per Person (Kg)  Acreage (Hectare)  Yield (Kg / Hectare)  \n",
       "102                    0.000000                0.0              830342.0  \n",
       "21                     1.084111            79103.0              910476.0  \n",
       "24                     1.084393             7413.0              919351.0  \n",
       "3                      1.264303          1336575.0              654422.0  \n",
       "7                      1.373406           447204.0              769291.0  "
      ]
     },
     "execution_count": 32,
     "metadata": {},
     "output_type": "execute_result"
    }
   ],
   "source": [
    "data.sort_values('Production per Person (Kg)',ascending=True).head()"
   ]
  },
  {
   "cell_type": "code",
   "execution_count": 33,
   "id": "7d2e03df-7a8c-458e-93b4-0441136e4979",
   "metadata": {},
   "outputs": [],
   "source": [
    "x=data.sort_values('Production per Person (Kg)',ascending=False).head()['Country']"
   ]
  },
  {
   "cell_type": "code",
   "execution_count": 34,
   "id": "278282b7-8af8-4ec0-a4ae-d6ef025b2bc7",
   "metadata": {},
   "outputs": [],
   "source": [
    "y=data.sort_values('Production per Person (Kg)',ascending=False).head()['Production per Person (Kg)']"
   ]
  },
  {
   "cell_type": "code",
   "execution_count": 35,
   "id": "0761c383-0a0c-4dad-b15c-e65ad61f6c9f",
   "metadata": {},
   "outputs": [
    {
     "data": {
      "image/png": "[encoded data removed]",
      "text/plain": [
       "<Figure size 640x480 with 1 Axes>"
      ]
     },
     "metadata": {},
     "output_type": "display_data"
    }
   ],
   "source": [
    "fig, pt =plt.subplots()\n",
    "\n",
    "pt.bar(x, y)\n",
    "\n",
    "pt.set_xlabel('Country')\n",
    "pt.set_ylabel('Production per Person')\n",
    "pt.set_title('Sugarcane production per person by Country')\n",
    "\n",
    "plt.xticks(rotation=45)\n",
    "\n",
    "plt.show()"
   ]
  },
  {
   "cell_type": "code",
   "execution_count": 36,
   "id": "24c47eba-285d-4a34-871e-2a21b8bc5609",
   "metadata": {},
   "outputs": [
    {
     "data": {
      "text/html": [
       "<div>\n",
       "<style scoped>\n",
       "    .dataframe tbody tr th:only-of-type {\n",
       "        vertical-align: middle;\n",
       "    }\n",
       "\n",
       "    .dataframe tbody tr th {\n",
       "        vertical-align: top;\n",
       "    }\n",
       "\n",
       "    .dataframe thead th {\n",
       "        text-align: right;\n",
       "    }\n",
       "</style>\n",
       "<table border=\"1\" class=\"dataframe\">\n",
       "  <thead>\n",
       "    <tr style=\"text-align: right;\">\n",
       "      <th></th>\n",
       "      <th>Production per Person (Kg)</th>\n",
       "    </tr>\n",
       "    <tr>\n",
       "      <th>Continent</th>\n",
       "      <th></th>\n",
       "    </tr>\n",
       "  </thead>\n",
       "  <tbody>\n",
       "    <tr>\n",
       "      <th>North America</th>\n",
       "      <td>3.784457e+06</td>\n",
       "    </tr>\n",
       "    <tr>\n",
       "      <th>South America</th>\n",
       "      <td>3.498809e+06</td>\n",
       "    </tr>\n",
       "    <tr>\n",
       "      <th>Africa</th>\n",
       "      <td>2.324876e+06</td>\n",
       "    </tr>\n",
       "    <tr>\n",
       "      <th>Asia</th>\n",
       "      <td>1.856506e+06</td>\n",
       "    </tr>\n",
       "    <tr>\n",
       "      <th>Oceania</th>\n",
       "      <td>2.546413e+04</td>\n",
       "    </tr>\n",
       "    <tr>\n",
       "      <th>Europe</th>\n",
       "      <td>5.360000e+02</td>\n",
       "    </tr>\n",
       "  </tbody>\n",
       "</table>\n",
       "</div>"
      ],
      "text/plain": [
       "               Production per Person (Kg)\n",
       "Continent                                \n",
       "North America                3.784457e+06\n",
       "South America                3.498809e+06\n",
       "Africa                       2.324876e+06\n",
       "Asia                         1.856506e+06\n",
       "Oceania                      2.546413e+04\n",
       "Europe                       5.360000e+02"
      ]
     },
     "execution_count": 36,
     "metadata": {},
     "output_type": "execute_result"
    }
   ],
   "source": [
    "data.groupby('Continent').agg({'Production per Person (Kg)':'sum'}).sort_values(by='Production per Person (Kg)',ascending=False)"
   ]
  },
  {
   "cell_type": "code",
   "execution_count": 37,
   "id": "39c6d789-5743-425f-822f-b73d98ecb61f",
   "metadata": {},
   "outputs": [],
   "source": [
    "x=data.groupby('Continent').agg({'Production per Person (Kg)':'sum'}).sort_values(by='Production per Person (Kg)',ascending=False).index[0:]"
   ]
  },
  {
   "cell_type": "code",
   "execution_count": 38,
   "id": "ceb51478-c166-4cb0-b6dd-6870f459cb84",
   "metadata": {},
   "outputs": [],
   "source": [
    "y=data.groupby('Continent').agg({'Production per Person (Kg)':'sum'}).sort_values(by='Production per Person (Kg)',ascending=False)['Production per Person (Kg)'].values"
   ]
  },
  {
   "cell_type": "code",
   "execution_count": 39,
   "id": "712b892c-b35a-45df-a0a1-ed2a064c4a52",
   "metadata": {},
   "outputs": [
    {
     "data": {
      "image/png": "[encoded data removed]",
      "text/plain": [
       "<Figure size 640x480 with 1 Axes>"
      ]
     },
     "metadata": {},
     "output_type": "display_data"
    }
   ],
   "source": [
    "fig, pt = plt.subplots()\n",
    "\n",
    "pt.bar(x,y)\n",
    "\n",
    "pt.set_xlabel('Continent')\n",
    "pt.set_ylabel('Production per Person')\n",
    "pt.set_title('Sugarcane Production per person by Continent')\n",
    "\n",
    "plt.xticks(rotation=45)\n",
    "\n",
    "plt.show()"
   ]
  },
  {
   "cell_type": "markdown",
   "id": "28de4c24-b402-4056-a4e7-b717f5d26c3f",
   "metadata": {},
   "source": [
    "Acreage analysis"
   ]
  },
  {
   "cell_type": "code",
   "execution_count": 40,
   "id": "3420b7e2-d38a-4cbd-a2ef-5d7e1032a4d2",
   "metadata": {},
   "outputs": [
    {
     "data": {
      "text/plain": [
       "Index(['Country', 'Continent', 'Production (Tons)',\n",
       "       'Production per Person (Kg)', 'Acreage (Hectare)',\n",
       "       'Yield (Kg / Hectare)'],\n",
       "      dtype='object')"
      ]
     },
     "execution_count": 40,
     "metadata": {},
     "output_type": "execute_result"
    }
   ],
   "source": [
    "data.columns"
   ]
  },
  {
   "cell_type": "code",
   "execution_count": 41,
   "id": "7cc25510-7621-4ac6-b655-cf198b41d280",
   "metadata": {},
   "outputs": [
    {
     "data": {
      "text/html": [
       "<div>\n",
       "<style scoped>\n",
       "    .dataframe tbody tr th:only-of-type {\n",
       "        vertical-align: middle;\n",
       "    }\n",
       "\n",
       "    .dataframe tbody tr th {\n",
       "        vertical-align: top;\n",
       "    }\n",
       "\n",
       "    .dataframe thead th {\n",
       "        text-align: right;\n",
       "    }\n",
       "</style>\n",
       "<table border=\"1\" class=\"dataframe\">\n",
       "  <thead>\n",
       "    <tr style=\"text-align: right;\">\n",
       "      <th></th>\n",
       "      <th>Country</th>\n",
       "      <th>Continent</th>\n",
       "      <th>Production (Tons)</th>\n",
       "      <th>Production per Person (Kg)</th>\n",
       "      <th>Acreage (Hectare)</th>\n",
       "      <th>Yield (Kg / Hectare)</th>\n",
       "    </tr>\n",
       "  </thead>\n",
       "  <tbody>\n",
       "    <tr>\n",
       "      <th>0</th>\n",
       "      <td>Brazil</td>\n",
       "      <td>South America</td>\n",
       "      <td>768678382.0</td>\n",
       "      <td>3.668531</td>\n",
       "      <td>10226205.0</td>\n",
       "      <td>751675.0</td>\n",
       "    </tr>\n",
       "    <tr>\n",
       "      <th>1</th>\n",
       "      <td>India</td>\n",
       "      <td>Asia</td>\n",
       "      <td>348448000.0</td>\n",
       "      <td>260721.000000</td>\n",
       "      <td>4950000.0</td>\n",
       "      <td>703935.0</td>\n",
       "    </tr>\n",
       "    <tr>\n",
       "      <th>2</th>\n",
       "      <td>China</td>\n",
       "      <td>Asia</td>\n",
       "      <td>123059739.0</td>\n",
       "      <td>88287.000000</td>\n",
       "      <td>1675215.0</td>\n",
       "      <td>734591.0</td>\n",
       "    </tr>\n",
       "    <tr>\n",
       "      <th>3</th>\n",
       "      <td>Thailand</td>\n",
       "      <td>Asia</td>\n",
       "      <td>87468496.0</td>\n",
       "      <td>1.264303</td>\n",
       "      <td>1336575.0</td>\n",
       "      <td>654422.0</td>\n",
       "    </tr>\n",
       "    <tr>\n",
       "      <th>4</th>\n",
       "      <td>Pakistan</td>\n",
       "      <td>Asia</td>\n",
       "      <td>65450704.0</td>\n",
       "      <td>324219.000000</td>\n",
       "      <td>1130820.0</td>\n",
       "      <td>57879.0</td>\n",
       "    </tr>\n",
       "  </tbody>\n",
       "</table>\n",
       "</div>"
      ],
      "text/plain": [
       "    Country      Continent  Production (Tons)  Production per Person (Kg)  \\\n",
       "0    Brazil  South America        768678382.0                    3.668531   \n",
       "1     India           Asia        348448000.0               260721.000000   \n",
       "2     China           Asia        123059739.0                88287.000000   \n",
       "3  Thailand           Asia         87468496.0                    1.264303   \n",
       "4  Pakistan           Asia         65450704.0               324219.000000   \n",
       "\n",
       "   Acreage (Hectare)  Yield (Kg / Hectare)  \n",
       "0         10226205.0              751675.0  \n",
       "1          4950000.0              703935.0  \n",
       "2          1675215.0              734591.0  \n",
       "3          1336575.0              654422.0  \n",
       "4          1130820.0               57879.0  "
      ]
     },
     "execution_count": 41,
     "metadata": {},
     "output_type": "execute_result"
    }
   ],
   "source": [
    "data.sort_values('Acreage (Hectare)',ascending = False).head()"
   ]
  },
  {
   "cell_type": "code",
   "execution_count": 42,
   "id": "57d5702c-c141-4ec2-bbff-266a1fbc7c10",
   "metadata": {},
   "outputs": [
    {
     "data": {
      "text/html": [
       "<div>\n",
       "<style scoped>\n",
       "    .dataframe tbody tr th:only-of-type {\n",
       "        vertical-align: middle;\n",
       "    }\n",
       "\n",
       "    .dataframe tbody tr th {\n",
       "        vertical-align: top;\n",
       "    }\n",
       "\n",
       "    .dataframe thead th {\n",
       "        text-align: right;\n",
       "    }\n",
       "</style>\n",
       "<table border=\"1\" class=\"dataframe\">\n",
       "  <thead>\n",
       "    <tr style=\"text-align: right;\">\n",
       "      <th></th>\n",
       "      <th>Country</th>\n",
       "      <th>Continent</th>\n",
       "      <th>Production (Tons)</th>\n",
       "      <th>Production per Person (Kg)</th>\n",
       "      <th>Acreage (Hectare)</th>\n",
       "      <th>Yield (Kg / Hectare)</th>\n",
       "    </tr>\n",
       "  </thead>\n",
       "  <tbody>\n",
       "    <tr>\n",
       "      <th>102</th>\n",
       "      <td>Syria</td>\n",
       "      <td>Asia</td>\n",
       "      <td>1.0</td>\n",
       "      <td>0.0</td>\n",
       "      <td>0.0</td>\n",
       "      <td>830342.0</td>\n",
       "    </tr>\n",
       "    <tr>\n",
       "      <th>101</th>\n",
       "      <td>Samoa</td>\n",
       "      <td>Oceania</td>\n",
       "      <td>12.0</td>\n",
       "      <td>6.0</td>\n",
       "      <td>1.0</td>\n",
       "      <td>119498.0</td>\n",
       "    </tr>\n",
       "    <tr>\n",
       "      <th>100</th>\n",
       "      <td>Singapore</td>\n",
       "      <td>Asia</td>\n",
       "      <td>50.0</td>\n",
       "      <td>9.0</td>\n",
       "      <td>2.0</td>\n",
       "      <td>25.0</td>\n",
       "    </tr>\n",
       "    <tr>\n",
       "      <th>98</th>\n",
       "      <td>Lebanon</td>\n",
       "      <td>Asia</td>\n",
       "      <td>97.0</td>\n",
       "      <td>16.0</td>\n",
       "      <td>3.0</td>\n",
       "      <td>283864.0</td>\n",
       "    </tr>\n",
       "    <tr>\n",
       "      <th>97</th>\n",
       "      <td>Spain</td>\n",
       "      <td>Europe</td>\n",
       "      <td>394.0</td>\n",
       "      <td>8.0</td>\n",
       "      <td>9.0</td>\n",
       "      <td>435965.0</td>\n",
       "    </tr>\n",
       "  </tbody>\n",
       "</table>\n",
       "</div>"
      ],
      "text/plain": [
       "       Country Continent  Production (Tons)  Production per Person (Kg)  \\\n",
       "102      Syria      Asia                1.0                         0.0   \n",
       "101      Samoa   Oceania               12.0                         6.0   \n",
       "100  Singapore      Asia               50.0                         9.0   \n",
       "98     Lebanon      Asia               97.0                        16.0   \n",
       "97       Spain    Europe              394.0                         8.0   \n",
       "\n",
       "     Acreage (Hectare)  Yield (Kg / Hectare)  \n",
       "102                0.0              830342.0  \n",
       "101                1.0              119498.0  \n",
       "100                2.0                  25.0  \n",
       "98                 3.0              283864.0  \n",
       "97                 9.0              435965.0  "
      ]
     },
     "execution_count": 42,
     "metadata": {},
     "output_type": "execute_result"
    }
   ],
   "source": [
    "data.sort_values('Acreage (Hectare)',ascending=True).head()"
   ]
  },
  {
   "cell_type": "code",
   "execution_count": 43,
   "id": "7648acfd-e2ff-4b41-a52f-5dbca5bba200",
   "metadata": {},
   "outputs": [
    {
     "data": {
      "image/png": "[encoded data removed]",
      "text/plain": [
       "<Figure size 640x480 with 1 Axes>"
      ]
     },
     "metadata": {},
     "output_type": "display_data"
    }
   ],
   "source": [
    "x=data.sort_values('Acreage (Hectare)',ascending=False).head()['Country']\n",
    "y=data.sort_values('Acreage (Hectare)',ascending=False).head()['Acreage (Hectare)']\n",
    "\n",
    "fig, pt = plt.subplots()\n",
    "\n",
    "pt.pie(y, labels=x, autopct='%1.2f%%')\n",
    "\n",
    "pt.set_title('Sugarcane Acreage (Hectare) by Country')\n",
    "\n",
    "pt.axis('equal')\n",
    "\n",
    "plt.show()"
   ]
  },
  {
   "cell_type": "code",
   "execution_count": 57,
   "id": "e723878b-4f6b-4a5a-903e-4223858ba814",
   "metadata": {},
   "outputs": [
    {
     "data": {
      "text/html": [
       "<div>\n",
       "<style scoped>\n",
       "    .dataframe tbody tr th:only-of-type {\n",
       "        vertical-align: middle;\n",
       "    }\n",
       "\n",
       "    .dataframe tbody tr th {\n",
       "        vertical-align: top;\n",
       "    }\n",
       "\n",
       "    .dataframe thead th {\n",
       "        text-align: right;\n",
       "    }\n",
       "</style>\n",
       "<table border=\"1\" class=\"dataframe\">\n",
       "  <thead>\n",
       "    <tr style=\"text-align: right;\">\n",
       "      <th></th>\n",
       "      <th>Acreage (Hectare)</th>\n",
       "    </tr>\n",
       "    <tr>\n",
       "      <th>Continent</th>\n",
       "      <th></th>\n",
       "    </tr>\n",
       "  </thead>\n",
       "  <tbody>\n",
       "    <tr>\n",
       "      <th>South America</th>\n",
       "      <td>1.136924e+07</td>\n",
       "    </tr>\n",
       "    <tr>\n",
       "      <th>Asia</th>\n",
       "      <td>1.060832e+07</td>\n",
       "    </tr>\n",
       "    <tr>\n",
       "      <th>Africa</th>\n",
       "      <td>1.688987e+06</td>\n",
       "    </tr>\n",
       "    <tr>\n",
       "      <th>North America</th>\n",
       "      <td>1.581983e+06</td>\n",
       "    </tr>\n",
       "    <tr>\n",
       "      <th>Oceania</th>\n",
       "      <td>4.909090e+05</td>\n",
       "    </tr>\n",
       "    <tr>\n",
       "      <th>Europe</th>\n",
       "      <td>7.100000e+01</td>\n",
       "    </tr>\n",
       "  </tbody>\n",
       "</table>\n",
       "</div>"
      ],
      "text/plain": [
       "               Acreage (Hectare)\n",
       "Continent                       \n",
       "South America       1.136924e+07\n",
       "Asia                1.060832e+07\n",
       "Africa              1.688987e+06\n",
       "North America       1.581983e+06\n",
       "Oceania             4.909090e+05\n",
       "Europe              7.100000e+01"
      ]
     },
     "execution_count": 57,
     "metadata": {},
     "output_type": "execute_result"
    }
   ],
   "source": [
    "data.groupby('Continent').agg({'Acreage (Hectare)':'sum'}).sort_values(by='Acreage (Hectare)',ascending=False)"
   ]
  },
  {
   "cell_type": "code",
   "execution_count": 58,
   "id": "a81dbf9f-0d54-4a70-bdb8-243ae86e80a0",
   "metadata": {},
   "outputs": [],
   "source": [
    "x=data.groupby('Continent').agg({'Acreage (Hectare)':'sum'}).sort_values(by='Acreage (Hectare)',ascending=False).index[0:]\n",
    "y=data.groupby('Continent').agg({'Acreage (Hectare)':'sum'}).sort_values(by='Acreage (Hectare)',ascending=False)['Acreage (Hectare)'].values"
   ]
  },
  {
   "cell_type": "code",
   "execution_count": 60,
   "id": "b062b0e3-7522-4e5d-8bac-f856aebea338",
   "metadata": {},
   "outputs": [
    {
     "data": {
      "image/png": "[encoded data removed]",
      "text/plain": [
       "<Figure size 640x480 with 1 Axes>"
      ]
     },
     "metadata": {},
     "output_type": "display_data"
    }
   ],
   "source": [
    "fig, ax = plt.subplots()\n",
    "\n",
    "ax.bar(x,y)\n",
    "\n",
    "ax.set_xlabel('Continent')\n",
    "ax.set_ylabel('Acreage (Hectare)')\n",
    "ax.set_title('Sugarcane Acreage (Hectare) by Continent')\n",
    "\n",
    "plt.xticks(rotation=45)\n",
    "\n",
    "plt.show()"
   ]
  }
 ],
 "metadata": {
  "kernelspec": {
   "display_name": "Python 3 (ipykernel)",
   "language": "python",
   "name": "python3"
  },
  "language_info": {
   "codemirror_mode": {
    "name": "ipython",
    "version": 3
   },
   "file_extension": ".py",
   "mimetype": "text/x-python",
   "name": "python",
   "nbconvert_exporter": "python",
   "pygments_lexer": "ipython3",
   "version": "3.11.3"
  }
 },
 "nbformat": 4,
 "nbformat_minor": 5
}
